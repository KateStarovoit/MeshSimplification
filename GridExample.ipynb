{
 "cells": [
  {
   "cell_type": "code",
   "execution_count": 4,
   "metadata": {},
   "outputs": [],
   "source": [
    "import igl\n",
    "import scipy as sp\n",
    "import numpy as np\n",
    "from meshplot import plot, subplot, interact\n",
    "import os\n",
    "import polyscope as ps\n",
    "root_folder = os.getcwd()\n",
    "\n",
    "v, f = igl.read_triangle_mesh(os.path.join(root_folder, \"data\", \"grid.off\"))\n",
    "v1, f1 = igl.read_triangle_mesh(os.path.join(root_folder, \"data\", \"gridexample1copy.obj\"))\n",
    "v2, f2 = igl.read_triangle_mesh(os.path.join(root_folder, \"data\", \"gridexample2copy3.obj\"))\n",
    "v3, f3 = igl.read_triangle_mesh(os.path.join(root_folder, \"data\", \"gridexample2copy2.obj\"))\n",
    "\n",
    "\n",
    "ps.init()\n",
    "mesh = ps.register_surface_mesh('original',v,f)\n",
    "mesh = ps.register_surface_mesh('t0',v1,f1)\n",
    "mesh = ps.register_surface_mesh('t01',v2,f2)\n",
    "mesh = ps.register_surface_mesh('t02',v3,f3)\n",
    "\n",
    "#points = ps.register_point_cloud('pointsv', v)\n",
    "#ints = ps.register_point_cloud('pointsv1', v1)\n",
    "#ints = ps.register_point_cloud('pointsv2', v2)\n",
    "#ints = ps.register_point_cloud('pointsv3', v3)\n",
    "ps.show()"
   ]
  },
  {
   "cell_type": "code",
   "execution_count": null,
   "metadata": {},
   "outputs": [],
   "source": []
  }
 ],
 "metadata": {
  "kernelspec": {
   "display_name": "Python 3",
   "language": "python",
   "name": "python3"
  },
  "language_info": {
   "codemirror_mode": {
    "name": "ipython",
    "version": 3
   },
   "file_extension": ".py",
   "mimetype": "text/x-python",
   "name": "python",
   "nbconvert_exporter": "python",
   "pygments_lexer": "ipython3",
   "version": "3.8.5"
  }
 },
 "nbformat": 4,
 "nbformat_minor": 4
}
