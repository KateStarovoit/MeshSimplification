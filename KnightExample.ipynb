{
 "cells": [
  {
   "cell_type": "code",
   "execution_count": 5,
   "metadata": {},
   "outputs": [],
   "source": [
    "import igl\n",
    "import scipy as sp\n",
    "import numpy as np\n",
    "from meshplot import plot, subplot, interact\n",
    "import os\n",
    "import polyscope as ps\n",
    "root_folder = os.getcwd()\n",
    "\n",
    "v, f = igl.read_triangle_mesh(os.path.join(root_folder, \"data\", \"decimated-knight.off\"))\n",
    "v2, f2 = igl.read_triangle_mesh(os.path.join(root_folder, \"data\", \"knight2.obj\"))\n",
    "v3, f3 = igl.read_triangle_mesh(os.path.join(root_folder, \"data\", \"knight3.obj\"))\n",
    "\n",
    "\n",
    "ps.init()\n",
    "mesh = ps.register_surface_mesh('original',v,f)\n",
    "mesh = ps.register_surface_mesh('t02',v3,f3)\n",
    "mesh = ps.register_surface_mesh('t01',v2,f2)\n",
    "\n",
    "points = ps.register_point_cloud('pointsv', v)\n",
    "ints = ps.register_point_cloud('pointsv1', v1)\n",
    "ints = ps.register_point_cloud('pointsv2', v2)\n",
    "ints = ps.register_point_cloud('pointsv3', v3)\n",
    "ps.show()"
   ]
  },
  {
   "cell_type": "code",
   "execution_count": 74,
   "metadata": {},
   "outputs": [
    {
     "name": "stdout",
     "output_type": "stream",
     "text": [
      "[[ 15 344  15]\n",
      " [210 313 243]\n",
      " [424 375  79]\n",
      " ...\n",
      " [175  30 211]\n",
      " [424  24  61]\n",
      " [104 130  35]]\n",
      "1000\n"
     ]
    }
   ],
   "source": [
    "v, f = igl.read_triangle_mesh(os.path.join(root_folder, \"data\", \"knight_example1copy2.obj\"))\n",
    "print(f)\n",
    "print(len(f))"
   ]
  },
  {
   "cell_type": "code",
   "execution_count": 81,
   "metadata": {},
   "outputs": [
    {
     "name": "stdout",
     "output_type": "stream",
     "text": [
      "Before:  864\n",
      "42\n",
      "After:  822\n"
     ]
    }
   ],
   "source": [
    "print(\"Before: \", len(f))\n",
    "count = 0\n",
    "i = 0\n",
    "while i < len(f):#while i < len(f):\n",
    "   if f[i][0]==f[i][1] and f[i][1]==f[i][2]:  \n",
    "    f = np.delete(f,i,0)\n",
    "    #print(f[i])\n",
    "    i -= 1\n",
    "    count += 1\n",
    "   # j = 0\n",
    "   # while j < len(f):\n",
    "   #     if i != j and f[i][0]==f[j][0] and f[i][1]==f[j][1] and f[i][2]==f[j][2]:\n",
    "   #         f = np.delete(f,j,0)\n",
    "   #         j -= 1\n",
    "            #print(f[i], f[j])\n",
    "   #         count += 1\n",
    "   #     j += 1\n",
    "   i += 1\n",
    "print(count)\n",
    "print(\"After: \", len(f))"
   ]
  },
  {
   "cell_type": "code",
   "execution_count": 57,
   "metadata": {},
   "outputs": [
    {
     "name": "stdout",
     "output_type": "stream",
     "text": [
      "152\n"
     ]
    }
   ],
   "source": [
    "v_ = []\n",
    "for i in range(0,len(v)):\n",
    "    v_.append(0)\n",
    "    \n",
    "for i in range(0,len(v)):\n",
    "    for j in range(len(f)):\n",
    "        if f[j][0] == i or  f[j][1] == i or  f[j][2] == i:\n",
    "            v_[i] = 1\n",
    "\n",
    "i = 0\n",
    "count = 0\n",
    "while i < len(v):\n",
    "    if v_[i] == 0:\n",
    "        v = np.delete(v,i,0)\n",
    "        v_ = np.delete(v_,i,0)\n",
    "        count += 1\n",
    "    i += 1\n",
    "print(count)\n"
   ]
  },
  {
   "cell_type": "code",
   "execution_count": 89,
   "metadata": {},
   "outputs": [
    {
     "name": "stdout",
     "output_type": "stream",
     "text": [
      "260\n"
     ]
    },
    {
     "data": {
      "application/vnd.jupyter.widget-view+json": {
       "model_id": "230767b28eef4e2cbd4dd49b7026f86e",
       "version_major": 2,
       "version_minor": 0
      },
      "text/plain": [
       "Renderer(camera=PerspectiveCamera(children=(DirectionalLight(color='white', intensity=0.6, position=(0.4996534…"
      ]
     },
     "metadata": {},
     "output_type": "display_data"
    },
    {
     "data": {
      "text/plain": [
       "<meshplot.Viewer.Viewer at 0x27fa4bc1d90>"
      ]
     },
     "execution_count": 89,
     "metadata": {},
     "output_type": "execute_result"
    }
   ],
   "source": [
    "v, f = igl.read_triangle_mesh(os.path.join(root_folder, \"data\", \"knight2.obj\"))\n",
    "\n",
    "v_ = []\n",
    "for i in range(0,len(v)):\n",
    "    v_.append(0)\n",
    "    \n",
    "for i in range(0,len(v)):\n",
    "    for j in range(len(f)):\n",
    "        if f[j][0] == i or  f[j][1] == i or  f[j][2] == i:\n",
    "            v_[i] = 1\n",
    "i = 0\n",
    "count = 0\n",
    "while i < len(v):\n",
    "    if v_[i] == 0:\n",
    "        v = np.delete(v,i,0)\n",
    "        v_ = np.delete(v_,i,0)\n",
    "        for i_ in range(0, len(f)):\n",
    "                if f[i_][0]  > i:\n",
    "                    f[i_][0] -= 1\n",
    "                if f[i_][1]  > i:\n",
    "                    f[i_][1] -= 1\n",
    "                if f[i_][2]  > i:\n",
    "                    f[i_][2] -= 1\n",
    "        i -= 1\n",
    "        count += 1\n",
    "    i += 1     \n",
    "print(count)\n",
    "plot(v, f)\n",
    "#ret = igl.write_triangle_mesh(os.path.join(root_folder, \"data\", \"knight3.obj\"), v, f)   "
   ]
  },
  {
   "cell_type": "code",
   "execution_count": 90,
   "metadata": {},
   "outputs": [],
   "source": [
    "ret = igl.write_triangle_mesh(os.path.join(root_folder, \"data\", \"knight2.obj\"), v, f)   "
   ]
  },
  {
   "cell_type": "code",
   "execution_count": 79,
   "metadata": {},
   "outputs": [],
   "source": [
    "ret = igl.write_triangle_mesh(os.path.join(root_folder, \"data\", \"knight2.obj\"), v, f)   "
   ]
  },
  {
   "cell_type": "code",
   "execution_count": null,
   "metadata": {},
   "outputs": [],
   "source": [
    "import igl\n",
    "import scipy as sp\n",
    "import numpy as np\n",
    "from meshplot import plot, subplot, interact\n",
    "import os\n",
    "import polyscope as ps\n",
    "root_folder = os.getcwd()\n",
    "\n",
    "v, f = igl.read_triangle_mesh(os.path.join(root_folder, \"data\", \"decimated-knight.off\"))\n",
    "\n",
    "ps.init()\n",
    "mesh = ps.register_surface_mesh('original',v,f)\n",
    "points = ps.register_point_cloud('pointsv', v)\n",
    "ps.show()"
   ]
  }
 ],
 "metadata": {
  "kernelspec": {
   "display_name": "Python 3",
   "language": "python",
   "name": "python3"
  },
  "language_info": {
   "codemirror_mode": {
    "name": "ipython",
    "version": 3
   },
   "file_extension": ".py",
   "mimetype": "text/x-python",
   "name": "python",
   "nbconvert_exporter": "python",
   "pygments_lexer": "ipython3",
   "version": "3.8.5"
  }
 },
 "nbformat": 4,
 "nbformat_minor": 4
}
